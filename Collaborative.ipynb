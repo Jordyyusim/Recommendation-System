{
 "cells": [
  {
   "cell_type": "markdown",
   "metadata": {},
   "source": [
    "# __RECOMMENDATION SYSTEM__\n",
    "\n",
    "<hr>\n",
    "<hr>"
   ]
  },
  {
   "cell_type": "markdown",
   "metadata": {},
   "source": [
    "## 2. _Collaborative Filtering_\n",
    "\n",
    "<hr>\n",
    "\n",
    "- data yg dibutuhkan : history interaksi user dengan product, misal\n",
    "    - E-commerce: history pembelian user, wishlist, rating product\n",
    "    - Social media: history views, likes, subscription\n",
    "\n",
    "- basicnya adalah correlations"
   ]
  },
  {
   "cell_type": "code",
   "execution_count": 1,
   "metadata": {},
   "outputs": [],
   "source": [
    "import numpy as np\n",
    "import pandas as pd"
   ]
  },
  {
   "cell_type": "code",
   "execution_count": 5,
   "metadata": {},
   "outputs": [],
   "source": [
    "df = pd.DataFrame([\n",
    "    {'user': 'Andi', 'dapur1': 5, 'dapur2': 5, 'dapur3': 5, 'sport1': 1, 'sport2': 1, 'sport3': 1},\n",
    "    {'user': 'Budi', 'dapur1': 4, 'dapur2': 5, 'dapur3': 4, 'sport1': 2, 'sport2': 1, 'sport3': 2},\n",
    "    {'user': 'Caca', 'dapur1': 4, 'dapur2': 4, 'dapur3': 5, 'sport1': 1, 'sport2': 2, 'sport3': 2},\n",
    "    {'user': 'Deni', 'dapur1': 1, 'dapur2': 2, 'dapur3': 1, 'sport1': 4, 'sport2': 5, 'sport3': 4},\n",
    "    {'user': 'Euis', 'dapur1': 2, 'dapur2': 1, 'dapur3': 2, 'sport1': 5, 'sport2': 5, 'sport3': 5}\n",
    "])"
   ]
  },
  {
   "cell_type": "code",
   "execution_count": 6,
   "metadata": {},
   "outputs": [
    {
     "data": {
      "text/html": [
       "<div>\n",
       "<style scoped>\n",
       "    .dataframe tbody tr th:only-of-type {\n",
       "        vertical-align: middle;\n",
       "    }\n",
       "\n",
       "    .dataframe tbody tr th {\n",
       "        vertical-align: top;\n",
       "    }\n",
       "\n",
       "    .dataframe thead th {\n",
       "        text-align: right;\n",
       "    }\n",
       "</style>\n",
       "<table border=\"1\" class=\"dataframe\">\n",
       "  <thead>\n",
       "    <tr style=\"text-align: right;\">\n",
       "      <th></th>\n",
       "      <th>dapur1</th>\n",
       "      <th>dapur2</th>\n",
       "      <th>dapur3</th>\n",
       "      <th>sport1</th>\n",
       "      <th>sport2</th>\n",
       "      <th>sport3</th>\n",
       "    </tr>\n",
       "  </thead>\n",
       "  <tbody>\n",
       "    <tr>\n",
       "      <th>dapur1</th>\n",
       "      <td>1.000000</td>\n",
       "      <td>0.887783</td>\n",
       "      <td>0.971537</td>\n",
       "      <td>-0.887783</td>\n",
       "      <td>-0.950262</td>\n",
       "      <td>-0.907407</td>\n",
       "    </tr>\n",
       "    <tr>\n",
       "      <th>dapur2</th>\n",
       "      <td>0.887783</td>\n",
       "      <td>1.000000</td>\n",
       "      <td>0.848485</td>\n",
       "      <td>-0.924242</td>\n",
       "      <td>-0.980418</td>\n",
       "      <td>-0.971537</td>\n",
       "    </tr>\n",
       "    <tr>\n",
       "      <th>dapur3</th>\n",
       "      <td>0.971537</td>\n",
       "      <td>0.848485</td>\n",
       "      <td>1.000000</td>\n",
       "      <td>-0.924242</td>\n",
       "      <td>-0.913266</td>\n",
       "      <td>-0.887783</td>\n",
       "    </tr>\n",
       "    <tr>\n",
       "      <th>sport1</th>\n",
       "      <td>-0.887783</td>\n",
       "      <td>-0.924242</td>\n",
       "      <td>-0.924242</td>\n",
       "      <td>1.000000</td>\n",
       "      <td>0.913266</td>\n",
       "      <td>0.971537</td>\n",
       "    </tr>\n",
       "    <tr>\n",
       "      <th>sport2</th>\n",
       "      <td>-0.950262</td>\n",
       "      <td>-0.980418</td>\n",
       "      <td>-0.913266</td>\n",
       "      <td>0.913266</td>\n",
       "      <td>1.000000</td>\n",
       "      <td>0.950262</td>\n",
       "    </tr>\n",
       "    <tr>\n",
       "      <th>sport3</th>\n",
       "      <td>-0.907407</td>\n",
       "      <td>-0.971537</td>\n",
       "      <td>-0.887783</td>\n",
       "      <td>0.971537</td>\n",
       "      <td>0.950262</td>\n",
       "      <td>1.000000</td>\n",
       "    </tr>\n",
       "  </tbody>\n",
       "</table>\n",
       "</div>"
      ],
      "text/plain": [
       "          dapur1    dapur2    dapur3    sport1    sport2    sport3\n",
       "dapur1  1.000000  0.887783  0.971537 -0.887783 -0.950262 -0.907407\n",
       "dapur2  0.887783  1.000000  0.848485 -0.924242 -0.980418 -0.971537\n",
       "dapur3  0.971537  0.848485  1.000000 -0.924242 -0.913266 -0.887783\n",
       "sport1 -0.887783 -0.924242 -0.924242  1.000000  0.913266  0.971537\n",
       "sport2 -0.950262 -0.980418 -0.913266  0.913266  1.000000  0.950262\n",
       "sport3 -0.907407 -0.971537 -0.887783  0.971537  0.950262  1.000000"
      ]
     },
     "execution_count": 6,
     "metadata": {},
     "output_type": "execute_result"
    }
   ],
   "source": [
    "dfCorr = df.corr()\n",
    "dfCorr"
   ]
  },
  {
   "cell_type": "code",
   "execution_count": 7,
   "metadata": {},
   "outputs": [],
   "source": [
    "# rekomendasi untuk user lain\n",
    "\n",
    "# Fafa membeli barang dapur1 dan beri rating 5\n",
    "Fafa = ['dapur1', 5]"
   ]
  },
  {
   "cell_type": "code",
   "execution_count": 8,
   "metadata": {},
   "outputs": [
    {
     "data": {
      "text/plain": [
       "dapur1    5.000000\n",
       "dapur2    4.438917\n",
       "dapur3    4.857683\n",
       "sport1   -4.438917\n",
       "sport2   -4.751311\n",
       "sport3   -4.537037\n",
       "Name: dapur1, dtype: float64"
      ]
     },
     "execution_count": 8,
     "metadata": {},
     "output_type": "execute_result"
    }
   ],
   "source": [
    "# similarity score berdasarkan correlation matrix\n",
    "\n",
    "skor = dfCorr[Fafa[0]] * Fafa[1]\n",
    "skor"
   ]
  },
  {
   "cell_type": "code",
   "execution_count": 10,
   "metadata": {},
   "outputs": [],
   "source": [
    "# Gina beli dapur1, sport1, sport3\n",
    "\n",
    "Gina = [['dapur1', 3], ['sport1', 3], ['sport3', 3]]"
   ]
  },
  {
   "cell_type": "code",
   "execution_count": 11,
   "metadata": {},
   "outputs": [
    {
     "data": {
      "text/html": [
       "<div>\n",
       "<style scoped>\n",
       "    .dataframe tbody tr th:only-of-type {\n",
       "        vertical-align: middle;\n",
       "    }\n",
       "\n",
       "    .dataframe tbody tr th {\n",
       "        vertical-align: top;\n",
       "    }\n",
       "\n",
       "    .dataframe thead th {\n",
       "        text-align: right;\n",
       "    }\n",
       "</style>\n",
       "<table border=\"1\" class=\"dataframe\">\n",
       "  <thead>\n",
       "    <tr style=\"text-align: right;\">\n",
       "      <th></th>\n",
       "      <th>dapur1</th>\n",
       "      <th>dapur2</th>\n",
       "      <th>dapur3</th>\n",
       "      <th>sport1</th>\n",
       "      <th>sport2</th>\n",
       "      <th>sport3</th>\n",
       "    </tr>\n",
       "  </thead>\n",
       "  <tbody>\n",
       "    <tr>\n",
       "      <th>dapur1</th>\n",
       "      <td>3.000000</td>\n",
       "      <td>2.663350</td>\n",
       "      <td>2.914610</td>\n",
       "      <td>-2.66335</td>\n",
       "      <td>-2.850787</td>\n",
       "      <td>-2.722222</td>\n",
       "    </tr>\n",
       "    <tr>\n",
       "      <th>sport1</th>\n",
       "      <td>-2.663350</td>\n",
       "      <td>-2.772727</td>\n",
       "      <td>-2.772727</td>\n",
       "      <td>3.00000</td>\n",
       "      <td>2.739798</td>\n",
       "      <td>2.914610</td>\n",
       "    </tr>\n",
       "    <tr>\n",
       "      <th>sport3</th>\n",
       "      <td>-2.722222</td>\n",
       "      <td>-2.914610</td>\n",
       "      <td>-2.663350</td>\n",
       "      <td>2.91461</td>\n",
       "      <td>2.850787</td>\n",
       "      <td>3.000000</td>\n",
       "    </tr>\n",
       "  </tbody>\n",
       "</table>\n",
       "</div>"
      ],
      "text/plain": [
       "          dapur1    dapur2    dapur3   sport1    sport2    sport3\n",
       "dapur1  3.000000  2.663350  2.914610 -2.66335 -2.850787 -2.722222\n",
       "sport1 -2.663350 -2.772727 -2.772727  3.00000  2.739798  2.914610\n",
       "sport3 -2.722222 -2.914610 -2.663350  2.91461  2.850787  3.000000"
      ]
     },
     "execution_count": 11,
     "metadata": {},
     "output_type": "execute_result"
    }
   ],
   "source": [
    "dfSkor = pd.DataFrame()\n",
    "for produk, rating in Gina:\n",
    "    skor = dfCorr[produk] * rating\n",
    "    skor = skor.sort_values(ascending=False)\n",
    "    dfSkor = dfSkor.append(skor)\n",
    "dfSkor"
   ]
  },
  {
   "cell_type": "code",
   "execution_count": 12,
   "metadata": {},
   "outputs": [
    {
     "data": {
      "text/plain": [
       "sport1    3.251259\n",
       "sport3    3.192387\n",
       "sport2    2.739798\n",
       "dapur1   -2.385572\n",
       "dapur3   -2.521468\n",
       "dapur2   -3.023987\n",
       "dtype: float64"
      ]
     },
     "execution_count": 12,
     "metadata": {},
     "output_type": "execute_result"
    }
   ],
   "source": [
    "dfSkor.sum().sort_values(ascending=False)"
   ]
  },
  {
   "cell_type": "code",
   "execution_count": null,
   "metadata": {},
   "outputs": [],
   "source": []
  }
 ],
 "metadata": {
  "kernelspec": {
   "display_name": "Python 3",
   "language": "python",
   "name": "python3"
  },
  "language_info": {
   "codemirror_mode": {
    "name": "ipython",
    "version": 3
   },
   "file_extension": ".py",
   "mimetype": "text/x-python",
   "name": "python",
   "nbconvert_exporter": "python",
   "pygments_lexer": "ipython3",
   "version": "3.8.1"
  }
 },
 "nbformat": 4,
 "nbformat_minor": 4
}
