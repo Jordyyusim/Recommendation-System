{
 "cells": [
  {
   "cell_type": "code",
   "execution_count": 35,
   "metadata": {},
   "outputs": [],
   "source": [
    "import numpy as np\n",
    "import pandas as pd\n",
    "from sklearn.feature_extraction.text import CountVectorizer\n",
    "from sklearn.metrics.pairwise import cosine_similarity "
   ]
  },
  {
   "cell_type": "code",
   "execution_count": 36,
   "metadata": {},
   "outputs": [],
   "source": [
    "anime = pd.read_csv('anime.csv')"
   ]
  },
  {
   "cell_type": "code",
   "execution_count": 37,
   "metadata": {},
   "outputs": [],
   "source": [
    "rating = pd.read_csv('rating.csv')"
   ]
  },
  {
   "cell_type": "markdown",
   "metadata": {},
   "source": [
    "## 1. Content Based"
   ]
  },
  {
   "cell_type": "code",
   "execution_count": 38,
   "metadata": {},
   "outputs": [
    {
     "data": {
      "text/html": [
       "<div>\n",
       "<style scoped>\n",
       "    .dataframe tbody tr th:only-of-type {\n",
       "        vertical-align: middle;\n",
       "    }\n",
       "\n",
       "    .dataframe tbody tr th {\n",
       "        vertical-align: top;\n",
       "    }\n",
       "\n",
       "    .dataframe thead th {\n",
       "        text-align: right;\n",
       "    }\n",
       "</style>\n",
       "<table border=\"1\" class=\"dataframe\">\n",
       "  <thead>\n",
       "    <tr style=\"text-align: right;\">\n",
       "      <th></th>\n",
       "      <th>anime_id</th>\n",
       "      <th>name</th>\n",
       "      <th>genre</th>\n",
       "      <th>type</th>\n",
       "      <th>episodes</th>\n",
       "      <th>rating</th>\n",
       "      <th>members</th>\n",
       "    </tr>\n",
       "  </thead>\n",
       "  <tbody>\n",
       "    <tr>\n",
       "      <th>0</th>\n",
       "      <td>32281</td>\n",
       "      <td>Kimi no Na wa.</td>\n",
       "      <td>Drama Romance School Supernatural</td>\n",
       "      <td>Movie</td>\n",
       "      <td>1</td>\n",
       "      <td>9.37</td>\n",
       "      <td>200630</td>\n",
       "    </tr>\n",
       "    <tr>\n",
       "      <th>1</th>\n",
       "      <td>5114</td>\n",
       "      <td>Fullmetal Alchemist: Brotherhood</td>\n",
       "      <td>Action Adventure Drama Fantasy Magic Military ...</td>\n",
       "      <td>TV</td>\n",
       "      <td>64</td>\n",
       "      <td>9.26</td>\n",
       "      <td>793665</td>\n",
       "    </tr>\n",
       "    <tr>\n",
       "      <th>2</th>\n",
       "      <td>28977</td>\n",
       "      <td>Gintama°</td>\n",
       "      <td>Action Comedy Historical Parody Samurai SciFi ...</td>\n",
       "      <td>TV</td>\n",
       "      <td>51</td>\n",
       "      <td>9.25</td>\n",
       "      <td>114262</td>\n",
       "    </tr>\n",
       "    <tr>\n",
       "      <th>3</th>\n",
       "      <td>9253</td>\n",
       "      <td>Steins;Gate</td>\n",
       "      <td>SciFi Thriller</td>\n",
       "      <td>TV</td>\n",
       "      <td>24</td>\n",
       "      <td>9.17</td>\n",
       "      <td>673572</td>\n",
       "    </tr>\n",
       "    <tr>\n",
       "      <th>4</th>\n",
       "      <td>9969</td>\n",
       "      <td>Gintama&amp;#039;</td>\n",
       "      <td>Action Comedy Historical Parody Samurai SciFi ...</td>\n",
       "      <td>TV</td>\n",
       "      <td>51</td>\n",
       "      <td>9.16</td>\n",
       "      <td>151266</td>\n",
       "    </tr>\n",
       "    <tr>\n",
       "      <th>...</th>\n",
       "      <td>...</td>\n",
       "      <td>...</td>\n",
       "      <td>...</td>\n",
       "      <td>...</td>\n",
       "      <td>...</td>\n",
       "      <td>...</td>\n",
       "      <td>...</td>\n",
       "    </tr>\n",
       "    <tr>\n",
       "      <th>12289</th>\n",
       "      <td>9316</td>\n",
       "      <td>Toushindai My Lover: Minami tai Mecha-Minami</td>\n",
       "      <td>Hentai</td>\n",
       "      <td>OVA</td>\n",
       "      <td>1</td>\n",
       "      <td>4.15</td>\n",
       "      <td>211</td>\n",
       "    </tr>\n",
       "    <tr>\n",
       "      <th>12290</th>\n",
       "      <td>5543</td>\n",
       "      <td>Under World</td>\n",
       "      <td>Hentai</td>\n",
       "      <td>OVA</td>\n",
       "      <td>1</td>\n",
       "      <td>4.28</td>\n",
       "      <td>183</td>\n",
       "    </tr>\n",
       "    <tr>\n",
       "      <th>12291</th>\n",
       "      <td>5621</td>\n",
       "      <td>Violence Gekiga David no Hoshi</td>\n",
       "      <td>Hentai</td>\n",
       "      <td>OVA</td>\n",
       "      <td>4</td>\n",
       "      <td>4.88</td>\n",
       "      <td>219</td>\n",
       "    </tr>\n",
       "    <tr>\n",
       "      <th>12292</th>\n",
       "      <td>6133</td>\n",
       "      <td>Violence Gekiga Shin David no Hoshi: Inma Dens...</td>\n",
       "      <td>Hentai</td>\n",
       "      <td>OVA</td>\n",
       "      <td>1</td>\n",
       "      <td>4.98</td>\n",
       "      <td>175</td>\n",
       "    </tr>\n",
       "    <tr>\n",
       "      <th>12293</th>\n",
       "      <td>26081</td>\n",
       "      <td>Yasuji no Pornorama: Yacchimae!!</td>\n",
       "      <td>Hentai</td>\n",
       "      <td>Movie</td>\n",
       "      <td>1</td>\n",
       "      <td>5.46</td>\n",
       "      <td>142</td>\n",
       "    </tr>\n",
       "  </tbody>\n",
       "</table>\n",
       "<p>12294 rows × 7 columns</p>\n",
       "</div>"
      ],
      "text/plain": [
       "       anime_id                                               name  \\\n",
       "0         32281                                     Kimi no Na wa.   \n",
       "1          5114                   Fullmetal Alchemist: Brotherhood   \n",
       "2         28977                                           Gintama°   \n",
       "3          9253                                        Steins;Gate   \n",
       "4          9969                                      Gintama&#039;   \n",
       "...         ...                                                ...   \n",
       "12289      9316       Toushindai My Lover: Minami tai Mecha-Minami   \n",
       "12290      5543                                        Under World   \n",
       "12291      5621                     Violence Gekiga David no Hoshi   \n",
       "12292      6133  Violence Gekiga Shin David no Hoshi: Inma Dens...   \n",
       "12293     26081                   Yasuji no Pornorama: Yacchimae!!   \n",
       "\n",
       "                                                   genre   type episodes  \\\n",
       "0                      Drama Romance School Supernatural  Movie        1   \n",
       "1      Action Adventure Drama Fantasy Magic Military ...     TV       64   \n",
       "2      Action Comedy Historical Parody Samurai SciFi ...     TV       51   \n",
       "3                                         SciFi Thriller     TV       24   \n",
       "4      Action Comedy Historical Parody Samurai SciFi ...     TV       51   \n",
       "...                                                  ...    ...      ...   \n",
       "12289                                             Hentai    OVA        1   \n",
       "12290                                             Hentai    OVA        1   \n",
       "12291                                             Hentai    OVA        4   \n",
       "12292                                             Hentai    OVA        1   \n",
       "12293                                             Hentai  Movie        1   \n",
       "\n",
       "       rating  members  \n",
       "0        9.37   200630  \n",
       "1        9.26   793665  \n",
       "2        9.25   114262  \n",
       "3        9.17   673572  \n",
       "4        9.16   151266  \n",
       "...       ...      ...  \n",
       "12289    4.15      211  \n",
       "12290    4.28      183  \n",
       "12291    4.88      219  \n",
       "12292    4.98      175  \n",
       "12293    5.46      142  \n",
       "\n",
       "[12294 rows x 7 columns]"
      ]
     },
     "execution_count": 38,
     "metadata": {},
     "output_type": "execute_result"
    }
   ],
   "source": [
    "anime['genre'] = anime['genre'].fillna('None')\n",
    "anime['genre'] = anime['genre'].str.replace('[^\\w\\s]','')\n",
    "anime"
   ]
  },
  {
   "cell_type": "code",
   "execution_count": 39,
   "metadata": {},
   "outputs": [],
   "source": [
    "countvec = CountVectorizer()"
   ]
  },
  {
   "cell_type": "code",
   "execution_count": 40,
   "metadata": {},
   "outputs": [
    {
     "data": {
      "text/plain": [
       "<12294x47 sparse matrix of type '<class 'numpy.int64'>'\n",
       "\twith 39630 stored elements in Compressed Sparse Row format>"
      ]
     },
     "execution_count": 40,
     "metadata": {},
     "output_type": "execute_result"
    }
   ],
   "source": [
    "c = countvec.fit_transform(anime['genre'])\n",
    "c"
   ]
  },
  {
   "cell_type": "code",
   "execution_count": 41,
   "metadata": {},
   "outputs": [
    {
     "name": "stdout",
     "output_type": "stream",
     "text": [
      "['action', 'adventure', 'ai', 'arts', 'cars', 'comedy', 'dementia', 'demons', 'drama', 'ecchi', 'fantasy', 'game', 'harem', 'hentai', 'historical', 'horror', 'josei', 'kids', 'life', 'magic', 'martial', 'mecha', 'military', 'music', 'mystery', 'none', 'of', 'parody', 'police', 'power', 'psychological', 'romance', 'samurai', 'school', 'scifi', 'seinen', 'shoujo', 'shounen', 'slice', 'space', 'sports', 'super', 'supernatural', 'thriller', 'vampire', 'yaoi', 'yuri']\n",
      "[[0 0 0 ... 0 0 0]\n",
      " [1 1 0 ... 0 0 0]\n",
      " [1 0 0 ... 0 0 0]\n",
      " ...\n",
      " [0 0 0 ... 0 0 0]\n",
      " [0 0 0 ... 0 0 0]\n",
      " [0 0 0 ... 0 0 0]]\n"
     ]
    }
   ],
   "source": [
    "print(countvec.get_feature_names())\n",
    "print(c.toarray())"
   ]
  },
  {
   "cell_type": "code",
   "execution_count": 46,
   "metadata": {},
   "outputs": [
    {
     "name": "stdout",
     "output_type": "stream",
     "text": [
      "[[1.         0.18898224 0.         ... 0.         0.         0.        ]\n",
      " [0.18898224 1.         0.28571429 ... 0.         0.         0.        ]\n",
      " [0.         0.28571429 1.         ... 0.         0.         0.        ]\n",
      " ...\n",
      " [0.         0.         0.         ... 1.         1.         1.        ]\n",
      " [0.         0.         0.         ... 1.         1.         1.        ]\n",
      " [0.         0.         0.         ... 1.         1.         1.        ]]\n"
     ]
    }
   ],
   "source": [
    "similarityScore = cosine_similarity(c.toarray())\n",
    "print(similarityScore)"
   ]
  },
  {
   "cell_type": "markdown",
   "metadata": {},
   "source": [
    "## Anime Recommendation For Ali\n",
    "#### Ali read anime_id #1"
   ]
  },
  {
   "cell_type": "code",
   "execution_count": 45,
   "metadata": {},
   "outputs": [
    {
     "data": {
      "text/plain": [
       "22"
      ]
     },
     "execution_count": 45,
     "metadata": {},
     "output_type": "execute_result"
    }
   ],
   "source": [
    "Ali = anime[anime['anime_id'] == 1].index[0]\n",
    "Ali"
   ]
  },
  {
   "cell_type": "code",
   "execution_count": 47,
   "metadata": {},
   "outputs": [],
   "source": [
    "similarAli = list(enumerate(similarityScore[Ali]))"
   ]
  },
  {
   "cell_type": "code",
   "execution_count": null,
   "metadata": {},
   "outputs": [],
   "source": [
    "similarAli = sorted(similarAli, key=lambda x: x[1], reverse=True)\n",
    "print(similarAli)"
   ]
  },
  {
   "cell_type": "code",
   "execution_count": 52,
   "metadata": {},
   "outputs": [
    {
     "data": {
      "text/plain": [
       "[1465, 6568, 551, 1073, 1398]"
      ]
     },
     "execution_count": 52,
     "metadata": {},
     "output_type": "execute_result"
    }
   ],
   "source": [
    "indexAli = []\n",
    "for i in similarAli[1:6]:\n",
    "    x = i[0]\n",
    "    indexAli.append(x)\n",
    "indexAli"
   ]
  },
  {
   "cell_type": "code",
   "execution_count": 53,
   "metadata": {},
   "outputs": [
    {
     "data": {
      "text/plain": [
       "['Cowboy Bebop: Yose Atsume Blues',\n",
       " 'Seihou Tenshi Angel Links',\n",
       " 'Seihou Bukyou Outlaw Star',\n",
       " 'Waga Seishun no Arcadia',\n",
       " 'Waga Seishun no Arcadia: Mugen Kidou SSX']"
      ]
     },
     "execution_count": 53,
     "metadata": {},
     "output_type": "execute_result"
    }
   ],
   "source": [
    "judulAli = []\n",
    "for i in indexAli:\n",
    "    x = anime['name'].iloc[i]\n",
    "    judulAli.append(x)\n",
    "judulAli\n"
   ]
  },
  {
   "cell_type": "code",
   "execution_count": 110,
   "metadata": {},
   "outputs": [
    {
     "data": {
      "text/html": [
       "<div>\n",
       "<style scoped>\n",
       "    .dataframe tbody tr th:only-of-type {\n",
       "        vertical-align: middle;\n",
       "    }\n",
       "\n",
       "    .dataframe tbody tr th {\n",
       "        vertical-align: top;\n",
       "    }\n",
       "\n",
       "    .dataframe thead th {\n",
       "        text-align: right;\n",
       "    }\n",
       "</style>\n",
       "<table border=\"1\" class=\"dataframe\">\n",
       "  <thead>\n",
       "    <tr style=\"text-align: right;\">\n",
       "      <th></th>\n",
       "      <th>anime_id</th>\n",
       "      <th>name</th>\n",
       "      <th>genre</th>\n",
       "      <th>type</th>\n",
       "      <th>episodes</th>\n",
       "      <th>rating</th>\n",
       "      <th>members</th>\n",
       "    </tr>\n",
       "  </thead>\n",
       "  <tbody>\n",
       "    <tr>\n",
       "      <th>1465</th>\n",
       "      <td>4037</td>\n",
       "      <td>Cowboy Bebop: Yose Atsume Blues</td>\n",
       "      <td>Action Adventure Comedy Drama SciFi Space</td>\n",
       "      <td>Special</td>\n",
       "      <td>1</td>\n",
       "      <td>7.53</td>\n",
       "      <td>19565</td>\n",
       "    </tr>\n",
       "    <tr>\n",
       "      <th>6568</th>\n",
       "      <td>1226</td>\n",
       "      <td>Seihou Tenshi Angel Links</td>\n",
       "      <td>Action Adventure Comedy Drama Romance SciFi Space</td>\n",
       "      <td>TV</td>\n",
       "      <td>13</td>\n",
       "      <td>6.06</td>\n",
       "      <td>4817</td>\n",
       "    </tr>\n",
       "    <tr>\n",
       "      <th>551</th>\n",
       "      <td>400</td>\n",
       "      <td>Seihou Bukyou Outlaw Star</td>\n",
       "      <td>Action Adventure Comedy SciFi Space</td>\n",
       "      <td>TV</td>\n",
       "      <td>24</td>\n",
       "      <td>7.98</td>\n",
       "      <td>78600</td>\n",
       "    </tr>\n",
       "    <tr>\n",
       "      <th>1073</th>\n",
       "      <td>2202</td>\n",
       "      <td>Waga Seishun no Arcadia</td>\n",
       "      <td>Action Adventure Drama SciFi Space</td>\n",
       "      <td>Movie</td>\n",
       "      <td>1</td>\n",
       "      <td>7.70</td>\n",
       "      <td>4415</td>\n",
       "    </tr>\n",
       "    <tr>\n",
       "      <th>1398</th>\n",
       "      <td>2203</td>\n",
       "      <td>Waga Seishun no Arcadia: Mugen Kidou SSX</td>\n",
       "      <td>Action Adventure Drama SciFi Space</td>\n",
       "      <td>TV</td>\n",
       "      <td>22</td>\n",
       "      <td>7.56</td>\n",
       "      <td>2587</td>\n",
       "    </tr>\n",
       "  </tbody>\n",
       "</table>\n",
       "</div>"
      ],
      "text/plain": [
       "      anime_id                                      name  \\\n",
       "1465      4037           Cowboy Bebop: Yose Atsume Blues   \n",
       "6568      1226                 Seihou Tenshi Angel Links   \n",
       "551        400                 Seihou Bukyou Outlaw Star   \n",
       "1073      2202                   Waga Seishun no Arcadia   \n",
       "1398      2203  Waga Seishun no Arcadia: Mugen Kidou SSX   \n",
       "\n",
       "                                                  genre     type episodes  \\\n",
       "1465          Action Adventure Comedy Drama SciFi Space  Special        1   \n",
       "6568  Action Adventure Comedy Drama Romance SciFi Space       TV       13   \n",
       "551                 Action Adventure Comedy SciFi Space       TV       24   \n",
       "1073                 Action Adventure Drama SciFi Space    Movie        1   \n",
       "1398                 Action Adventure Drama SciFi Space       TV       22   \n",
       "\n",
       "      rating  members  \n",
       "1465    7.53    19565  \n",
       "6568    6.06     4817  \n",
       "551     7.98    78600  \n",
       "1073    7.70     4415  \n",
       "1398    7.56     2587  "
      ]
     },
     "execution_count": 110,
     "metadata": {},
     "output_type": "execute_result"
    }
   ],
   "source": [
    "anime.iloc[indexAli]"
   ]
  },
  {
   "cell_type": "markdown",
   "metadata": {},
   "source": [
    "## Anime Recommendation for Budi\n",
    "#### Budi read anime_id #24 #25 #5"
   ]
  },
  {
   "cell_type": "code",
   "execution_count": 112,
   "metadata": {},
   "outputs": [
    {
     "data": {
      "text/plain": [
       "(1432, 464, 0)"
      ]
     },
     "execution_count": 112,
     "metadata": {},
     "output_type": "execute_result"
    }
   ],
   "source": [
    "Budi1 = anime[anime['anime_id'] == 25].index[0]\n",
    "Budi2 = anime[anime['anime_id'] == 24].index[0]\n",
    "Budi3 = anime[anime['anime_id'] == 32281].index[0]\n",
    "Budi1, Budi2, Budi3"
   ]
  },
  {
   "cell_type": "code",
   "execution_count": 113,
   "metadata": {},
   "outputs": [],
   "source": [
    "similarBudi1 = list(enumerate(similarityScore[Budi1]))\n",
    "similarBudi2 = list(enumerate(similarityScore[Budi2]))\n",
    "similarBudi3 = list(enumerate(similarityScore[Budi3]))"
   ]
  },
  {
   "cell_type": "code",
   "execution_count": 114,
   "metadata": {},
   "outputs": [],
   "source": [
    "similarBudi1 = sorted(similarBudi1, key=lambda x: x[1], reverse=True)\n",
    "similarBudi2 = sorted(similarBudi2, key=lambda x: x[1], reverse=True)\n",
    "similarBudi3 = sorted(similarBudi3, key=lambda x: x[1], reverse=True)"
   ]
  },
  {
   "cell_type": "code",
   "execution_count": 115,
   "metadata": {},
   "outputs": [
    {
     "data": {
      "text/html": [
       "<div>\n",
       "<style scoped>\n",
       "    .dataframe tbody tr th:only-of-type {\n",
       "        vertical-align: middle;\n",
       "    }\n",
       "\n",
       "    .dataframe tbody tr th {\n",
       "        vertical-align: top;\n",
       "    }\n",
       "\n",
       "    .dataframe thead th {\n",
       "        text-align: right;\n",
       "    }\n",
       "</style>\n",
       "<table border=\"1\" class=\"dataframe\">\n",
       "  <thead>\n",
       "    <tr style=\"text-align: right;\">\n",
       "      <th></th>\n",
       "      <th>anime_id</th>\n",
       "      <th>name</th>\n",
       "      <th>genre</th>\n",
       "      <th>type</th>\n",
       "      <th>episodes</th>\n",
       "      <th>rating</th>\n",
       "      <th>members</th>\n",
       "    </tr>\n",
       "  </thead>\n",
       "  <tbody>\n",
       "    <tr>\n",
       "      <th>464</th>\n",
       "      <td>24</td>\n",
       "      <td>School Rumble</td>\n",
       "      <td>Comedy Romance School Shounen</td>\n",
       "      <td>TV</td>\n",
       "      <td>26</td>\n",
       "      <td>8.06</td>\n",
       "      <td>178553</td>\n",
       "    </tr>\n",
       "    <tr>\n",
       "      <th>772</th>\n",
       "      <td>517</td>\n",
       "      <td>School Rumble Ichi Gakki Hoshuu</td>\n",
       "      <td>Comedy Romance School Shounen</td>\n",
       "      <td>OVA</td>\n",
       "      <td>2</td>\n",
       "      <td>7.85</td>\n",
       "      <td>40868</td>\n",
       "    </tr>\n",
       "    <tr>\n",
       "      <th>1330</th>\n",
       "      <td>24627</td>\n",
       "      <td>Yamada-kun to 7-nin no Majo (OVA)</td>\n",
       "      <td>Comedy Romance School Shounen</td>\n",
       "      <td>OVA</td>\n",
       "      <td>2</td>\n",
       "      <td>7.59</td>\n",
       "      <td>33816</td>\n",
       "    </tr>\n",
       "    <tr>\n",
       "      <th>2760</th>\n",
       "      <td>33713</td>\n",
       "      <td>Seihou Bukyou Outlaw Star Specials</td>\n",
       "      <td>Action Adventure Comedy Ecchi SciFi</td>\n",
       "      <td>Special</td>\n",
       "      <td>2</td>\n",
       "      <td>7.16</td>\n",
       "      <td>1509</td>\n",
       "    </tr>\n",
       "    <tr>\n",
       "      <th>3974</th>\n",
       "      <td>297</td>\n",
       "      <td>Grenadier: Hohoemi no Senshi</td>\n",
       "      <td>Action Adventure Comedy Ecchi Shounen</td>\n",
       "      <td>TV</td>\n",
       "      <td>12</td>\n",
       "      <td>6.83</td>\n",
       "      <td>37919</td>\n",
       "    </tr>\n",
       "    <tr>\n",
       "      <th>4486</th>\n",
       "      <td>370</td>\n",
       "      <td>Burn Up Excess</td>\n",
       "      <td>Action Adventure Comedy Ecchi Police SciFi Sho...</td>\n",
       "      <td>TV</td>\n",
       "      <td>13</td>\n",
       "      <td>6.71</td>\n",
       "      <td>6402</td>\n",
       "    </tr>\n",
       "  </tbody>\n",
       "</table>\n",
       "</div>"
      ],
      "text/plain": [
       "      anime_id                                name  \\\n",
       "464         24                       School Rumble   \n",
       "772        517     School Rumble Ichi Gakki Hoshuu   \n",
       "1330     24627   Yamada-kun to 7-nin no Majo (OVA)   \n",
       "2760     33713  Seihou Bukyou Outlaw Star Specials   \n",
       "3974       297        Grenadier: Hohoemi no Senshi   \n",
       "4486       370                      Burn Up Excess   \n",
       "\n",
       "                                                  genre     type episodes  \\\n",
       "464                       Comedy Romance School Shounen       TV       26   \n",
       "772                       Comedy Romance School Shounen      OVA        2   \n",
       "1330                      Comedy Romance School Shounen      OVA        2   \n",
       "2760                Action Adventure Comedy Ecchi SciFi  Special        2   \n",
       "3974              Action Adventure Comedy Ecchi Shounen       TV       12   \n",
       "4486  Action Adventure Comedy Ecchi Police SciFi Sho...       TV       13   \n",
       "\n",
       "      rating  members  \n",
       "464     8.06   178553  \n",
       "772     7.85    40868  \n",
       "1330    7.59    33816  \n",
       "2760    7.16     1509  \n",
       "3974    6.83    37919  \n",
       "4486    6.71     6402  "
      ]
     },
     "execution_count": 115,
     "metadata": {},
     "output_type": "execute_result"
    }
   ],
   "source": [
    "animeBudi = []\n",
    "for i in similarBudi1[1:4], similarBudi2[1:4], similarBudi2[1:4]:\n",
    "    animeBudi.append(anime.iloc[i[0][0]])\n",
    "    animeBudi.append(anime.iloc[i[1][0]])\n",
    "    animeBudi.append(anime.iloc[i[2][0]])\n",
    "animeBudi = pd.DataFrame(animeBudi)\n",
    "animeBudi.drop_duplicates().sort_values(by='rating', ascending=False)\n",
    "\n",
    "\n",
    "\n",
    "# for i in similarBudi1[1:4]:\n",
    "#     print(i[0])"
   ]
  },
  {
   "cell_type": "markdown",
   "metadata": {},
   "source": [
    "## Anime Recommendation for Cindy\n",
    "#### Cindy read anime_id #10 #200"
   ]
  },
  {
   "cell_type": "code",
   "execution_count": 107,
   "metadata": {},
   "outputs": [
    {
     "data": {
      "text/plain": [
       "(2210, 1302)"
      ]
     },
     "execution_count": 107,
     "metadata": {},
     "output_type": "execute_result"
    }
   ],
   "source": [
    "Cindy1 = anime[anime['anime_id'] == 100].index[0]\n",
    "Cindy2 = anime[anime['anime_id'] == 200].index[0]\n",
    "Cindy1, Cindy2"
   ]
  },
  {
   "cell_type": "code",
   "execution_count": 108,
   "metadata": {},
   "outputs": [],
   "source": [
    "similarCindy1 = list(enumerate(similarityScore[Cindy1]))\n",
    "similarCindy2 = list(enumerate(similarityScore[Cindy2]))"
   ]
  },
  {
   "cell_type": "code",
   "execution_count": 116,
   "metadata": {},
   "outputs": [],
   "source": [
    "similarCindy1 = sorted(similarCindy1, key= lambda x: x[1], reverse=True)\n",
    "similarCindy2 = sorted(similarCindy2, key= lambda x: x[1], reverse=True)"
   ]
  },
  {
   "cell_type": "code",
   "execution_count": 118,
   "metadata": {},
   "outputs": [
    {
     "data": {
      "text/html": [
       "<div>\n",
       "<style scoped>\n",
       "    .dataframe tbody tr th:only-of-type {\n",
       "        vertical-align: middle;\n",
       "    }\n",
       "\n",
       "    .dataframe tbody tr th {\n",
       "        vertical-align: top;\n",
       "    }\n",
       "\n",
       "    .dataframe thead th {\n",
       "        text-align: right;\n",
       "    }\n",
       "</style>\n",
       "<table border=\"1\" class=\"dataframe\">\n",
       "  <thead>\n",
       "    <tr style=\"text-align: right;\">\n",
       "      <th></th>\n",
       "      <th>anime_id</th>\n",
       "      <th>name</th>\n",
       "      <th>genre</th>\n",
       "      <th>type</th>\n",
       "      <th>episodes</th>\n",
       "      <th>rating</th>\n",
       "      <th>members</th>\n",
       "    </tr>\n",
       "  </thead>\n",
       "  <tbody>\n",
       "    <tr>\n",
       "      <th>1399</th>\n",
       "      <td>156</td>\n",
       "      <td>X</td>\n",
       "      <td>Action Drama Fantasy Magic Romance Shoujo Supe...</td>\n",
       "      <td>TV</td>\n",
       "      <td>24</td>\n",
       "      <td>7.56</td>\n",
       "      <td>51004</td>\n",
       "    </tr>\n",
       "    <tr>\n",
       "      <th>233</th>\n",
       "      <td>372</td>\n",
       "      <td>Cardcaptor Sakura Movie 2: Fuuin Sareta Card</td>\n",
       "      <td>Comedy Drama Fantasy Magic Romance Shoujo</td>\n",
       "      <td>Movie</td>\n",
       "      <td>1</td>\n",
       "      <td>8.28</td>\n",
       "      <td>60637</td>\n",
       "    </tr>\n",
       "    <tr>\n",
       "      <th>4162</th>\n",
       "      <td>626</td>\n",
       "      <td>Mamotte Shugogetten!</td>\n",
       "      <td>Comedy Fantasy Magic Romance Shounen</td>\n",
       "      <td>TV</td>\n",
       "      <td>22</td>\n",
       "      <td>6.79</td>\n",
       "      <td>4995</td>\n",
       "    </tr>\n",
       "    <tr>\n",
       "      <th>4754</th>\n",
       "      <td>660</td>\n",
       "      <td>Denshin Mamotte Shugogetten</td>\n",
       "      <td>Comedy Fantasy Magic Romance Shounen</td>\n",
       "      <td>OVA</td>\n",
       "      <td>8</td>\n",
       "      <td>6.64</td>\n",
       "      <td>2372</td>\n",
       "    </tr>\n",
       "  </tbody>\n",
       "</table>\n",
       "</div>"
      ],
      "text/plain": [
       "      anime_id                                          name  \\\n",
       "1399       156                                             X   \n",
       "233        372  Cardcaptor Sakura Movie 2: Fuuin Sareta Card   \n",
       "4162       626                          Mamotte Shugogetten!   \n",
       "4754       660                   Denshin Mamotte Shugogetten   \n",
       "\n",
       "                                                  genre   type episodes  \\\n",
       "1399  Action Drama Fantasy Magic Romance Shoujo Supe...     TV       24   \n",
       "233           Comedy Drama Fantasy Magic Romance Shoujo  Movie        1   \n",
       "4162               Comedy Fantasy Magic Romance Shounen     TV       22   \n",
       "4754               Comedy Fantasy Magic Romance Shounen    OVA        8   \n",
       "\n",
       "      rating  members  \n",
       "1399    7.56    51004  \n",
       "233     8.28    60637  \n",
       "4162    6.79     4995  \n",
       "4754    6.64     2372  "
      ]
     },
     "execution_count": 118,
     "metadata": {},
     "output_type": "execute_result"
    }
   ],
   "source": [
    "animeCindy = []\n",
    "for i in similarCindy1[1:4], similarCindy2[1:4]:\n",
    "    animeCindy.append(anime.iloc[i[0][0]])\n",
    "    animeCindy.append(anime.iloc[i[1][0]])\n",
    "animeCindy = pd.DataFrame(animeCindy)\n",
    "animeCindy"
   ]
  },
  {
   "cell_type": "markdown",
   "metadata": {},
   "source": [
    "## Anime Recommendation for User_id = 1"
   ]
  },
  {
   "cell_type": "code",
   "execution_count": null,
   "metadata": {},
   "outputs": [],
   "source": [
    "user_1 = rating[rating['user_id'] == 1].sort_values(by='rating', ascending=False)\n",
    "user_1"
   ]
  },
  {
   "cell_type": "code",
   "execution_count": 128,
   "metadata": {},
   "outputs": [
    {
     "data": {
      "text/plain": [
       "47"
      ]
     },
     "execution_count": 128,
     "metadata": {},
     "output_type": "execute_result"
    }
   ],
   "source": [
    "user_1_index = user_1.iloc[:4].index\n",
    "user_1_index[0]"
   ]
  },
  {
   "cell_type": "code",
   "execution_count": 129,
   "metadata": {},
   "outputs": [],
   "source": [
    "similar_user1 = list(enumerate(similarityScore[user_1_index[0]]))\n",
    "similar_user2 = list(enumerate(similarityScore[user_1_index[1]]))\n",
    "similar_user3 = list(enumerate(similarityScore[user_1_index[2]]))\n",
    "similar_user4 = list(enumerate(similarityScore[user_1_index[3]]))"
   ]
  },
  {
   "cell_type": "code",
   "execution_count": 130,
   "metadata": {},
   "outputs": [],
   "source": [
    "similar_user1 = sorted(similar_user1, key= lambda x:x[1], reverse=True)\n",
    "similar_user2 = sorted(similar_user2, key= lambda x:x[1], reverse=True)\n",
    "similar_user3 = sorted(similar_user3, key= lambda x:x[1], reverse=True)\n",
    "similar_user4 = sorted(similar_user4, key= lambda x:x[1], reverse=True)"
   ]
  },
  {
   "cell_type": "code",
   "execution_count": null,
   "metadata": {},
   "outputs": [],
   "source": [
    "similar_user_1 = similar_user1 + similar_user2 + similar_user3 + similar_user4\n",
    "similar_user_1 = sorted(similar_user_1, key=lambda x:x[1], reverse=True)\n",
    "similar_user_1"
   ]
  },
  {
   "cell_type": "code",
   "execution_count": 136,
   "metadata": {},
   "outputs": [
    {
     "data": {
      "text/html": [
       "<div>\n",
       "<style scoped>\n",
       "    .dataframe tbody tr th:only-of-type {\n",
       "        vertical-align: middle;\n",
       "    }\n",
       "\n",
       "    .dataframe tbody tr th {\n",
       "        vertical-align: top;\n",
       "    }\n",
       "\n",
       "    .dataframe thead th {\n",
       "        text-align: right;\n",
       "    }\n",
       "</style>\n",
       "<table border=\"1\" class=\"dataframe\">\n",
       "  <thead>\n",
       "    <tr style=\"text-align: right;\">\n",
       "      <th></th>\n",
       "      <th>anime_id</th>\n",
       "      <th>name</th>\n",
       "      <th>genre</th>\n",
       "      <th>type</th>\n",
       "      <th>episodes</th>\n",
       "      <th>rating</th>\n",
       "      <th>members</th>\n",
       "    </tr>\n",
       "  </thead>\n",
       "  <tbody>\n",
       "    <tr>\n",
       "      <th>47</th>\n",
       "      <td>22135</td>\n",
       "      <td>Ping Pong The Animation</td>\n",
       "      <td>Psychological Seinen Sports</td>\n",
       "      <td>TV</td>\n",
       "      <td>11</td>\n",
       "      <td>8.67</td>\n",
       "      <td>97187</td>\n",
       "    </tr>\n",
       "    <tr>\n",
       "      <th>149</th>\n",
       "      <td>5040</td>\n",
       "      <td>One Outs</td>\n",
       "      <td>Psychological Seinen Sports</td>\n",
       "      <td>TV</td>\n",
       "      <td>25</td>\n",
       "      <td>8.41</td>\n",
       "      <td>83056</td>\n",
       "    </tr>\n",
       "    <tr>\n",
       "      <th>101</th>\n",
       "      <td>18115</td>\n",
       "      <td>Magi: The Kingdom of Magic</td>\n",
       "      <td>Action Adventure Fantasy Magic Shounen</td>\n",
       "      <td>TV</td>\n",
       "      <td>25</td>\n",
       "      <td>8.50</td>\n",
       "      <td>245026</td>\n",
       "    </tr>\n",
       "    <tr>\n",
       "      <th>268</th>\n",
       "      <td>14513</td>\n",
       "      <td>Magi: The Labyrinth of Magic</td>\n",
       "      <td>Action Adventure Fantasy Magic Shounen</td>\n",
       "      <td>TV</td>\n",
       "      <td>25</td>\n",
       "      <td>8.24</td>\n",
       "      <td>317513</td>\n",
       "    </tr>\n",
       "  </tbody>\n",
       "</table>\n",
       "</div>"
      ],
      "text/plain": [
       "     anime_id                          name  \\\n",
       "47      22135       Ping Pong The Animation   \n",
       "149      5040                      One Outs   \n",
       "101     18115    Magi: The Kingdom of Magic   \n",
       "268     14513  Magi: The Labyrinth of Magic   \n",
       "\n",
       "                                      genre type episodes  rating  members  \n",
       "47              Psychological Seinen Sports   TV       11    8.67    97187  \n",
       "149             Psychological Seinen Sports   TV       25    8.41    83056  \n",
       "101  Action Adventure Fantasy Magic Shounen   TV       25    8.50   245026  \n",
       "268  Action Adventure Fantasy Magic Shounen   TV       25    8.24   317513  "
      ]
     },
     "execution_count": 136,
     "metadata": {},
     "output_type": "execute_result"
    }
   ],
   "source": [
    "animeUser1 = []\n",
    "for i in similar_user_1[:4]:\n",
    "    animeUser1.append(anime.iloc[i[0]])\n",
    "animeUser1 = pd.DataFrame(animeUser1)\n",
    "animeUser1\n",
    "\n",
    "# index = []\n",
    "# for i in similar_user_1[:4]:\n",
    "#     index.append(i[0])\n",
    "# animeUser = anime.iloc[index]\n",
    "# animeUser"
   ]
  },
  {
   "cell_type": "markdown",
   "metadata": {},
   "source": []
  }
 ],
 "metadata": {
  "kernelspec": {
   "display_name": "Python 3",
   "language": "python",
   "name": "python3"
  },
  "language_info": {
   "codemirror_mode": {
    "name": "ipython",
    "version": 3
   },
   "file_extension": ".py",
   "mimetype": "text/x-python",
   "name": "python",
   "nbconvert_exporter": "python",
   "pygments_lexer": "ipython3",
   "version": "3.8.1"
  }
 },
 "nbformat": 4,
 "nbformat_minor": 4
}
